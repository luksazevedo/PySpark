{
  "nbformat": 4,
  "nbformat_minor": 0,
  "metadata": {
    "colab": {
      "name": "Analise_dados _pyspark.ipynb",
      "provenance": [],
      "collapsed_sections": []
    },
    "kernelspec": {
      "name": "python3",
      "display_name": "Python 3"
    },
    "language_info": {
      "name": "python"
    }
  },
  "cells": [
    {
      "cell_type": "code",
      "execution_count": 4,
      "metadata": {
        "id": "M-RjnB4gnOg6"
      },
      "outputs": [],
      "source": [
        "#Etapas de configuração para executar o pyspark via Google Colab\n",
        "!apt-get install openjdk-8-jdk-headless -qq > /dev/null"
      ]
    },
    {
      "cell_type": "code",
      "source": [
        "!wget -q https://dlcdn.apache.org/spark/spark-3.2.1/spark-3.2.1-bin-hadoop3.2.tgz"
      ],
      "metadata": {
        "id": "YyCvcAIyn4zH"
      },
      "execution_count": 5,
      "outputs": []
    },
    {
      "cell_type": "code",
      "source": [
        "!tar xf spark-3.2.1-bin-hadoop3.2.tgz"
      ],
      "metadata": {
        "id": "3QJ-JXIqoBe2"
      },
      "execution_count": 6,
      "outputs": []
    },
    {
      "cell_type": "code",
      "source": [
        "!pip install -q findspark\n",
        "!pip install pyspark"
      ],
      "metadata": {
        "id": "KiFg2ds0oZiY"
      },
      "execution_count": null,
      "outputs": []
    },
    {
      "cell_type": "code",
      "source": [
        "import os\n",
        "os.environ[\"JAVA_HOME\"] = \"/usr/lib/jvm/java-8-openjdk-amd64\"\n",
        "os.environ[\"SPARK_HOME\"] = \"/content/spark-3.2.1-bin-hadoop3.2\""
      ],
      "metadata": {
        "id": "_I6t8t_npysa"
      },
      "execution_count": 8,
      "outputs": []
    },
    {
      "cell_type": "code",
      "source": [
        "import findspark\n",
        "findspark.init()"
      ],
      "metadata": {
        "id": "_eqfqpnfp-Tn"
      },
      "execution_count": 9,
      "outputs": []
    },
    {
      "cell_type": "code",
      "source": [
        "from pyspark.sql import SparkSession\n",
        "spark = SparkSession.builder\\\n",
        "        .master(\"local\")\\\n",
        "        .appName(\"Colab\")\\\n",
        "        .config('spark.ui.port', '4050')\\\n",
        "        .getOrCreate()"
      ],
      "metadata": {
        "id": "Gn99-h6_qXEL"
      },
      "execution_count": 10,
      "outputs": []
    },
    {
      "cell_type": "code",
      "source": [
        "#simples dataset utilizado\n",
        "!wget --continue https://raw.githubusercontent.com/GarvitArya/pyspark-demo/main/sample_books.json -O /tmp/sample_books.json"
      ],
      "metadata": {
        "id": "pMsQ4UWwqhFR"
      },
      "execution_count": null,
      "outputs": []
    },
    {
      "cell_type": "code",
      "source": [
        "#Leitura em um dataframe do Spark\n",
        "df = spark.read.json(\"/tmp/sample_books.json\")"
      ],
      "metadata": {
        "id": "FzUI_6U8qohu"
      },
      "execution_count": 14,
      "outputs": []
    },
    {
      "cell_type": "code",
      "source": [
        "#Verificação dos tipos de dados e das colunas\n",
        "df.printSchema()"
      ],
      "metadata": {
        "colab": {
          "base_uri": "https://localhost:8080/"
        },
        "id": "BC8Zi5caqvC7",
        "outputId": "6ebe4202-5bdc-4e81-e469-4ea59fb77d42"
      },
      "execution_count": 15,
      "outputs": [
        {
          "output_type": "stream",
          "name": "stdout",
          "text": [
            "root\n",
            " |-- author: string (nullable = true)\n",
            " |-- edition: string (nullable = true)\n",
            " |-- price: double (nullable = true)\n",
            " |-- title: string (nullable = true)\n",
            " |-- year_written: long (nullable = true)\n",
            "\n"
          ]
        }
      ]
    },
    {
      "cell_type": "code",
      "source": [
        "df.show(6,False)"
      ],
      "metadata": {
        "colab": {
          "base_uri": "https://localhost:8080/"
        },
        "id": "hkokT9rbHFGF",
        "outputId": "baa1df8b-d850-48f0-b9cd-82134eaa0e90"
      },
      "execution_count": 42,
      "outputs": [
        {
          "output_type": "stream",
          "name": "stdout",
          "text": [
            "+--------------------+--------------+-----+----------------+------------+\n",
            "|author              |edition       |price|title           |year_written|\n",
            "+--------------------+--------------+-----+----------------+------------+\n",
            "|Austen, Jane        |Penguin       |18.2 |Northanger Abbey|1814        |\n",
            "|Tolstoy, Leo        |Penguin       |12.7 |War and Peace   |1865        |\n",
            "|Tolstoy, Leo        |Penguin       |13.5 |Anna Karenina   |1875        |\n",
            "|Woolf, Virginia     |Harcourt Brace|25.0 |Mrs. Dalloway   |1925        |\n",
            "|Cunnningham, Michael|Harcourt Brace|12.35|The Hours       |1999        |\n",
            "|Twain, Mark         |Penguin       |5.76 |Huckleberry Finn|1865        |\n",
            "+--------------------+--------------+-----+----------------+------------+\n",
            "only showing top 6 rows\n",
            "\n"
          ]
        }
      ]
    },
    {
      "cell_type": "code",
      "source": [
        "df.count()"
      ],
      "metadata": {
        "id": "ZqV11LxXHmlD"
      },
      "execution_count": null,
      "outputs": []
    },
    {
      "cell_type": "code",
      "source": [
        "df.select(\"author\",  \"year_written\").show(7)"
      ],
      "metadata": {
        "colab": {
          "base_uri": "https://localhost:8080/"
        },
        "id": "pTsnX_hvIC0R",
        "outputId": "0c7047d5-c304-4f52-af2f-12a0e613b3eb"
      },
      "execution_count": 47,
      "outputs": [
        {
          "output_type": "stream",
          "name": "stdout",
          "text": [
            "+--------------------+------------+\n",
            "|              author|year_written|\n",
            "+--------------------+------------+\n",
            "|        Austen, Jane|        1814|\n",
            "|        Tolstoy, Leo|        1865|\n",
            "|        Tolstoy, Leo|        1875|\n",
            "|     Woolf, Virginia|        1925|\n",
            "|Cunnningham, Michael|        1999|\n",
            "|         Twain, Mark|        1865|\n",
            "|    Dickens, Charles|        1870|\n",
            "+--------------------+------------+\n",
            "only showing top 7 rows\n",
            "\n"
          ]
        }
      ]
    },
    {
      "cell_type": "code",
      "source": [
        "import matplotlib.pyplot as plt\n",
        "#import seaborn as sns\n",
        "import pandas as pd"
      ],
      "metadata": {
        "id": "PQmLgqtGJC0u"
      },
      "execution_count": 34,
      "outputs": []
    },
    {
      "cell_type": "code",
      "source": [
        "selecao_df = df.select('year_written')#seleção de uma coluna de interesse"
      ],
      "metadata": {
        "id": "oDJO8E-BTznE"
      },
      "execution_count": 35,
      "outputs": []
    },
    {
      "cell_type": "code",
      "source": [
        "filtrado_df = selecao_df.toPandas() #convertendo para um dataframe compativel com pandas"
      ],
      "metadata": {
        "id": "D67AhmVhUqc_"
      },
      "execution_count": 36,
      "outputs": []
    },
    {
      "cell_type": "code",
      "source": [
        "#Definições do gráfico\n",
        "ax1 = filtrado_df['year_written'].plot(kind='hist', bins=25, facecolor='lightblue') \n",
        "ax1.set_title('Distribuição por Ano')\n",
        "ax1.set_xlabel('Ano')\n",
        "ax1.set_ylabel('Quantidade')\n",
        "plt.suptitle('')\n",
        "plt.show()"
      ],
      "metadata": {
        "colab": {
          "base_uri": "https://localhost:8080/",
          "height": 295
        },
        "id": "YjSJCOuDU7aQ",
        "outputId": "fb65186e-cb24-494d-e517-60fcd4521732"
      },
      "execution_count": 37,
      "outputs": [
        {
          "output_type": "display_data",
          "data": {
            "text/plain": [
              "<Figure size 432x288 with 1 Axes>"
            ],
            "image/png": "[encoded data removed]"
          },
          "metadata": {
            "needs_background": "light"
          }
        }
      ]
    },
    {
      "cell_type": "markdown",
      "source": [
        "O histograma mostra que no intervalo entre 1850 e 1900 ocorreu uma maior frequência de títulos literários do conjunto analisado. "
      ],
      "metadata": {
        "id": "L3BBKkugltT9"
      }
    }
  ]
}